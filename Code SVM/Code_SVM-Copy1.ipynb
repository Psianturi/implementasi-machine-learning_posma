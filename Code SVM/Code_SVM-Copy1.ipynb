{
 "cells": [
  {
   "cell_type": "code",
   "execution_count": 1,
   "id": "3f6804b8",
   "metadata": {},
   "outputs": [],
   "source": [
    "train_path= 'C:\\\\Users\\\\posmajan\\\\Downloads\\\\codes dan csv metode SVM\\\\glcm_training_dataset.csv'\n",
    "test_path= 'C:\\\\Users\\\\posmajan\\\\Downloads\\\\codes dan csv metode SVM\\\\glcm_test_dataset.csv'\n"
   ]
  },
  {
   "cell_type": "code",
   "execution_count": 2,
   "id": "028d3f8a",
   "metadata": {},
   "outputs": [
    {
     "name": "stdout",
     "output_type": "stream",
     "text": [
      "['Unnamed: 0', 'dissimilarity_0', 'dissimilarity_45', 'dissimilarity_90', 'dissimilarity_135', 'correlation_0', 'correlation_45', 'correlation_90', 'correlation_135', 'homogeneity_0', 'homogeneity_45', 'homogeneity_90', 'homogeneity_135', 'contrast_0', 'contrast_45', 'contrast_90', 'contrast_135', 'ASM_0', 'ASM_45', 'ASM_90', 'ASM_135', 'energy_0', 'energy_45', 'energy_90', 'energy_135', 'label']\n"
     ]
    }
   ],
   "source": [
    "import pandas as pd\n",
    "\n",
    "data_train = pd.read_csv(train_path)\n",
    "data_test = pd.read_csv(test_path)\n",
    "\n",
    "print(data_train.columns.tolist())"
   ]
  },
  {
   "cell_type": "code",
   "execution_count": 3,
   "id": "7186ceb4",
   "metadata": {},
   "outputs": [
    {
     "name": "stdout",
     "output_type": "stream",
     "text": [
      "[[5.43422460e+00 5.85600232e+00 4.85989305e+00 ... 3.37557765e-02\n",
      "  3.66814344e-02 3.52287286e-02]\n",
      " [4.17643494e+00 4.33030919e+00 4.30983957e+00 ... 4.85822953e-02\n",
      "  4.82356037e-02 4.66629791e-02]\n",
      " [5.69393939e+00 5.91725940e+00 4.62581105e+00 ... 4.02329966e-02\n",
      "  4.41330462e-02 4.07430813e-02]\n",
      " ...\n",
      " [1.33912982e+01 1.43835094e+01 1.40267143e+01 ... 1.92896325e-02\n",
      "  1.91625698e-02 1.92127627e-02]\n",
      " [2.02933333e+01 2.12039319e+01 1.89942857e+01 ... 1.75425562e-02\n",
      "  1.77913072e-02 1.79536946e-02]\n",
      " [2.81890526e+01 3.19325117e+01 3.06797143e+01 ... 1.13012346e-02\n",
      "  1.12875225e-02 1.12983773e-02]]\n"
     ]
    }
   ],
   "source": [
    "label_train =data_train['label'].to_numpy()\n",
    "fitur_train = data_train[['dissimilarity_0', 'dissimilarity_45', 'dissimilarity_90', 'dissimilarity_135', 'correlation_0', 'correlation_45', 'correlation_90', 'correlation_135', 'homogeneity_0', 'homogeneity_45', 'homogeneity_90', 'homogeneity_135', 'contrast_0', 'contrast_45', 'contrast_90', 'contrast_135', 'ASM_0', 'ASM_45', 'ASM_90', 'ASM_135', 'energy_0', 'energy_45', 'energy_90', 'energy_135',]].to_numpy()\n",
    "\n",
    "print(fitur_train)"
   ]
  },
  {
   "cell_type": "code",
   "execution_count": 4,
   "id": "f73c8dbc",
   "metadata": {},
   "outputs": [],
   "source": [
    "## Bagi data training dan data testing untuk membuat model, dan menguji akurasi model tsb"
   ]
  },
  {
   "cell_type": "code",
   "execution_count": 63,
   "id": "89ae0dd6",
   "metadata": {},
   "outputs": [],
   "source": [
    "from sklearn.model_selection import train_test_split\n",
    "\n",
    "x_train, x_test, y_train, y_test =train_test_split(fitur_train, label_train, random_state = 0)\n"
   ]
  },
  {
   "cell_type": "code",
   "execution_count": 64,
   "id": "8ab1833b",
   "metadata": {},
   "outputs": [],
   "source": [
    "## Membuat model menggunakan metode SVM dengan kernel linier"
   ]
  },
  {
   "cell_type": "code",
   "execution_count": 65,
   "id": "60866488",
   "metadata": {},
   "outputs": [
    {
     "data": {
      "text/plain": [
       "SVC()"
      ]
     },
     "execution_count": 65,
     "metadata": {},
     "output_type": "execute_result"
    }
   ],
   "source": [
    "from sklearn.svm import SVC\n",
    "\n",
    "svc = SVC()\n",
    "svc.fit(x_train, y_train)"
   ]
  },
  {
   "cell_type": "code",
   "execution_count": 66,
   "id": "194137b1",
   "metadata": {},
   "outputs": [],
   "source": [
    "## Uji model yang dibuat ke testing dataset"
   ]
  },
  {
   "cell_type": "code",
   "execution_count": 67,
   "id": "adba528f",
   "metadata": {},
   "outputs": [
    {
     "data": {
      "text/plain": [
       "(621, 24)"
      ]
     },
     "execution_count": 67,
     "metadata": {},
     "output_type": "execute_result"
    }
   ],
   "source": [
    "x_train.shape\n"
   ]
  },
  {
   "cell_type": "code",
   "execution_count": 68,
   "id": "662c4e24",
   "metadata": {},
   "outputs": [
    {
     "data": {
      "text/plain": [
       "(208,)"
      ]
     },
     "execution_count": 68,
     "metadata": {},
     "output_type": "execute_result"
    }
   ],
   "source": [
    "y_test.shape"
   ]
  },
  {
   "cell_type": "code",
   "execution_count": 69,
   "id": "2b11527c",
   "metadata": {},
   "outputs": [],
   "source": [
    "y_pred = svc.predict(x_test)"
   ]
  },
  {
   "cell_type": "code",
   "execution_count": 70,
   "id": "817fb3a8",
   "metadata": {},
   "outputs": [
    {
     "data": {
      "text/plain": [
       "array([[13.39129825, 14.38350939, 14.02671429, ...,  0.01928963,\n",
       "         0.01916257,  0.01921276],\n",
       "       [ 5.31600713,  5.80784584,  5.98848485, ...,  0.03476873,\n",
       "         0.03424943,  0.0343172 ],\n",
       "       [ 6.24937611,  6.83194223,  6.78160428, ...,  0.0253203 ,\n",
       "         0.02534381,  0.02471296],\n",
       "       ...,\n",
       "       [11.44652406, 11.82653506,  8.05529412, ...,  0.03842289,\n",
       "         0.03995683,  0.03827941],\n",
       "       [ 2.95631215,  3.0362691 ,  2.85618128, ...,  0.06972812,\n",
       "         0.07099833,  0.06896611],\n",
       "       [ 2.02991972,  2.25474079,  2.19775671, ...,  0.11302533,\n",
       "         0.11440269,  0.11547809]])"
      ]
     },
     "execution_count": 70,
     "metadata": {},
     "output_type": "execute_result"
    }
   ],
   "source": [
    "x_test"
   ]
  },
  {
   "cell_type": "code",
   "execution_count": 71,
   "id": "2a0bc66f",
   "metadata": {},
   "outputs": [
    {
     "data": {
      "text/plain": [
       "array(['scabies', 'chickenpox', 'chickenpox', 'eczema', 'psoriasis',\n",
       "       'eczema', 'eczema', 'psoriasis', 'keratosis', 'eczema',\n",
       "       'keratosis', 'scabies', 'psoriasis', 'scabies', 'scabies',\n",
       "       'chickenpox', 'eczema', 'psoriasis', 'scabies', 'scabies',\n",
       "       'scabies', 'dermatofibroma', 'eczema', 'keratosis', 'chickenpox',\n",
       "       'scabies', 'chickenpox', 'psoriasis', 'scabies', 'keratosis',\n",
       "       'keratosis', 'keratosis', 'eczema', 'keratosis', 'eczema',\n",
       "       'eczema', 'keratosis', 'dermatofibroma', 'psoriasis', 'eczema',\n",
       "       'chickenpox', 'chickenpox', 'psoriasis', 'chickenpox', 'psoriasis',\n",
       "       'scabies', 'scabies', 'eczema', 'scabies', 'psoriasis',\n",
       "       'psoriasis', 'eczema', 'eczema', 'scabies', 'dermatofibroma',\n",
       "       'chickenpox', 'keratosis', 'keratosis', 'psoriasis', 'scabies',\n",
       "       'dermatofibroma', 'chickenpox', 'eczema', 'keratosis', 'eczema',\n",
       "       'keratosis', 'scabies', 'keratosis', 'keratosis', 'eczema',\n",
       "       'chickenpox', 'eczema', 'scabies', 'psoriasis', 'psoriasis',\n",
       "       'scabies', 'eczema', 'eczema', 'dermatofibroma', 'eczema',\n",
       "       'chickenpox', 'eczema', 'dermatofibroma', 'keratosis', 'eczema',\n",
       "       'eczema', 'eczema', 'eczema', 'scabies', 'eczema', 'eczema',\n",
       "       'keratosis', 'chickenpox', 'chickenpox', 'psoriasis', 'eczema',\n",
       "       'scabies', 'keratosis', 'chickenpox', 'eczema', 'chickenpox',\n",
       "       'dermatofibroma', 'scabies', 'eczema', 'eczema', 'chickenpox',\n",
       "       'eczema', 'scabies', 'scabies', 'psoriasis', 'eczema', 'keratosis',\n",
       "       'scabies', 'keratosis', 'eczema', 'eczema', 'keratosis', 'scabies',\n",
       "       'scabies', 'psoriasis', 'eczema', 'psoriasis', 'keratosis',\n",
       "       'keratosis', 'psoriasis', 'chickenpox', 'keratosis', 'psoriasis',\n",
       "       'eczema', 'scabies', 'scabies', 'chickenpox', 'chickenpox',\n",
       "       'eczema', 'scabies', 'psoriasis', 'chickenpox', 'scabies',\n",
       "       'psoriasis', 'chickenpox', 'keratosis', 'eczema', 'chickenpox',\n",
       "       'keratosis', 'chickenpox', 'keratosis', 'eczema', 'psoriasis',\n",
       "       'psoriasis', 'keratosis', 'scabies', 'dermatofibroma',\n",
       "       'chickenpox', 'scabies', 'scabies', 'scabies', 'psoriasis',\n",
       "       'keratosis', 'scabies', 'scabies', 'keratosis', 'eczema',\n",
       "       'psoriasis', 'scabies', 'scabies', 'eczema', 'keratosis',\n",
       "       'scabies', 'chickenpox', 'chickenpox', 'eczema', 'dermatofibroma',\n",
       "       'chickenpox', 'chickenpox', 'eczema', 'chickenpox', 'eczema',\n",
       "       'keratosis', 'scabies', 'psoriasis', 'keratosis', 'keratosis',\n",
       "       'chickenpox', 'chickenpox', 'psoriasis', 'chickenpox', 'eczema',\n",
       "       'keratosis', 'eczema', 'keratosis', 'psoriasis', 'eczema',\n",
       "       'chickenpox', 'psoriasis', 'dermatofibroma', 'dermatofibroma',\n",
       "       'chickenpox', 'chickenpox', 'dermatofibroma', 'eczema', 'scabies',\n",
       "       'eczema', 'eczema', 'dermatofibroma', 'psoriasis', 'chickenpox',\n",
       "       'psoriasis', 'psoriasis'], dtype=object)"
      ]
     },
     "execution_count": 71,
     "metadata": {},
     "output_type": "execute_result"
    }
   ],
   "source": [
    "y_test\n",
    "#y_train, y_pred = [0,0,1,0],[0,0,0,0]"
   ]
  },
  {
   "cell_type": "code",
   "execution_count": 72,
   "id": "73f50fc2",
   "metadata": {},
   "outputs": [
    {
     "data": {
      "text/plain": [
       "<bound method NDFrame._add_numeric_operations.<locals>.all of      Unnamed: 0  dissimilarity_0  dissimilarity_45  dissimilarity_90  \\\n",
       "0             0         5.434225          5.856002          4.859893   \n",
       "1             1         4.176435          4.330309          4.309840   \n",
       "2             2         5.693939          5.917259          4.625811   \n",
       "3             3         3.082781          3.238424          3.159430   \n",
       "4             4         2.299002          2.533314          2.542317   \n",
       "..          ...              ...               ...               ...   \n",
       "824         824        10.260632         10.491931          8.423143   \n",
       "825         825         8.039439          9.770687          8.298571   \n",
       "826         826        13.391298         14.383509         14.026714   \n",
       "827         827        20.293333         21.203932         18.994286   \n",
       "828         828        28.189053         31.932512         30.679714   \n",
       "\n",
       "     dissimilarity_135  correlation_0  correlation_45  correlation_90  \\\n",
       "0             5.508129       0.802098        0.781001        0.832751   \n",
       "1             4.615365       0.742270        0.721900        0.734146   \n",
       "2             5.707831       0.901227        0.896749        0.942109   \n",
       "3             3.328966       0.724368        0.702479        0.709149   \n",
       "4             2.561838       0.742117        0.687339        0.686332   \n",
       "..                 ...            ...             ...             ...   \n",
       "824           9.258803       0.839941        0.836173        0.914246   \n",
       "825           8.448797       0.895620        0.857171        0.883787   \n",
       "826          14.988410       0.665616        0.596784        0.642611   \n",
       "827          21.133509       0.754174        0.723334        0.780069   \n",
       "828          30.961121       0.678584        0.592252        0.617510   \n",
       "\n",
       "     correlation_135  homogeneity_0  ...  contrast_135     ASM_0    ASM_45  \\\n",
       "0           0.790281       0.201666  ...     71.377268  0.001236  0.001139   \n",
       "1           0.695293       0.249538  ...     46.027616  0.002395  0.002360   \n",
       "2           0.905876       0.205203  ...     85.797177  0.001697  0.001619   \n",
       "3           0.681823       0.312469  ...     23.758274  0.004708  0.004476   \n",
       "4           0.681015       0.345381  ...     10.825011  0.007697  0.007148   \n",
       "..               ...            ...  ...           ...       ...       ...   \n",
       "824         0.865989       0.104290  ...    161.566315  0.000796  0.000785   \n",
       "825         0.877292       0.163505  ...    170.373093  0.000884  0.000773   \n",
       "826         0.591668       0.076891  ...    357.541227  0.000387  0.000372   \n",
       "827         0.722349       0.077126  ...    855.150822  0.000311  0.000308   \n",
       "828         0.622699       0.041561  ...   1603.913879  0.000130  0.000128   \n",
       "\n",
       "       ASM_90   ASM_135  energy_0  energy_45  energy_90  energy_135  \\\n",
       "0    0.001346  0.001241  0.035154   0.033756   0.036681    0.035229   \n",
       "1    0.002327  0.002177  0.048939   0.048582   0.048236    0.046663   \n",
       "2    0.001948  0.001660  0.041189   0.040233   0.044133    0.040743   \n",
       "3    0.004659  0.004442  0.068611   0.066904   0.068258    0.066648   \n",
       "4    0.007120  0.007101  0.087735   0.084547   0.084383    0.084268   \n",
       "..        ...       ...       ...        ...        ...         ...   \n",
       "824  0.000788  0.000811  0.028215   0.028020   0.028067    0.028483   \n",
       "825  0.000866  0.000798  0.029728   0.027798   0.029420    0.028255   \n",
       "826  0.000367  0.000369  0.019660   0.019290   0.019163    0.019213   \n",
       "827  0.000317  0.000322  0.017639   0.017543   0.017791    0.017954   \n",
       "828  0.000127  0.000128  0.011412   0.011301   0.011288    0.011298   \n",
       "\n",
       "          label  \n",
       "0    chickenpox  \n",
       "1    chickenpox  \n",
       "2    chickenpox  \n",
       "3    chickenpox  \n",
       "4    chickenpox  \n",
       "..          ...  \n",
       "824     scabies  \n",
       "825     scabies  \n",
       "826     scabies  \n",
       "827     scabies  \n",
       "828     scabies  \n",
       "\n",
       "[829 rows x 26 columns]>"
      ]
     },
     "execution_count": 72,
     "metadata": {},
     "output_type": "execute_result"
    }
   ],
   "source": [
    "import numpy as np\n",
    "import pandas as pd\n",
    "\n",
    "import matplotlib.pyplot\n",
    "\n",
    "df = pd.read_csv(\"glcm_test_dataset.csv\")\n",
    "df.all"
   ]
  },
  {
   "cell_type": "code",
   "execution_count": 73,
   "id": "07a1a05e",
   "metadata": {},
   "outputs": [
    {
     "data": {
      "image/png": "[encoded data removed]",
      "text/plain": [
       "<Figure size 1440x720 with 1 Axes>"
      ]
     },
     "metadata": {},
     "output_type": "display_data"
    }
   ],
   "source": [
    "label_distr = df['label'].value_counts()\n",
    "\n",
    "\n",
    "label_name = ['1','2', '3', '4']\n",
    "\n",
    "plt.figure(figsize=(20,10))\n",
    "\n",
    "my_circle = plt.Circle( (0,0), 0.7, color='white')\n",
    "plt.pie(label_distr,   \n",
    "        autopct='%1.1f%%')\n",
    "\n",
    "p = plt.gcf()\n",
    "p.gca().add_artist(my_circle)\n",
    "plt.show()"
   ]
  },
  {
   "cell_type": "code",
   "execution_count": 74,
   "id": "b98cf3da",
   "metadata": {},
   "outputs": [
    {
     "name": "stdout",
     "output_type": "stream",
     "text": [
      "eczema            173\n",
      "scabies           164\n",
      "chickenpox        149\n",
      "psoriasis         143\n",
      "keratosis         138\n",
      "dermatofibroma     62\n",
      "Name: label, dtype: int64\n"
     ]
    }
   ],
   "source": [
    "print(label_distr)"
   ]
  },
  {
   "cell_type": "code",
   "execution_count": 75,
   "id": "9ba889af",
   "metadata": {},
   "outputs": [],
   "source": [
    "from sklearn.metrics import confusion_matrix\n",
    "y_train, y_pred = [0,0,1,0],[1,0,1,0]\n",
    "tn, fp, fn, tp = confusion_matrix(y_train, y_pred, labels=[0,1]).ravel()\n"
   ]
  },
  {
   "cell_type": "code",
   "execution_count": 76,
   "id": "524bb954",
   "metadata": {},
   "outputs": [
    {
     "name": "stdout",
     "output_type": "stream",
     "text": [
      "0.75\n"
     ]
    }
   ],
   "source": [
    "accuracy = (tn + tp) / (tn+fp+fn+tp)\n",
    "\n",
    "print(accuracy)"
   ]
  },
  {
   "cell_type": "code",
   "execution_count": 77,
   "id": "a211fa12",
   "metadata": {},
   "outputs": [
    {
     "data": {
      "text/plain": [
       "'              precision    recall  f1-score   support\\n\\n           0       1.00      0.67      0.80         3\\n           1       0.50      1.00      0.67         1\\n\\n    accuracy                           0.75         4\\n   macro avg       0.75      0.83      0.73         4\\nweighted avg       0.88      0.75      0.77         4\\n'"
      ]
     },
     "execution_count": 77,
     "metadata": {},
     "output_type": "execute_result"
    }
   ],
   "source": [
    "from sklearn.metrics import classification_report\n",
    "classification_report(y_train,y_pred)"
   ]
  },
  {
   "cell_type": "code",
   "execution_count": 78,
   "id": "f2b49717",
   "metadata": {},
   "outputs": [
    {
     "name": "stdout",
     "output_type": "stream",
     "text": [
      "              precision    recall  f1-score   support\n",
      "\n",
      "           0       1.00      0.67      0.80         3\n",
      "           1       0.50      1.00      0.67         1\n",
      "\n",
      "    accuracy                           0.75         4\n",
      "   macro avg       0.75      0.83      0.73         4\n",
      "weighted avg       0.88      0.75      0.77         4\n",
      "\n"
     ]
    }
   ],
   "source": [
    "print(classification_report(y_train,y_pred))"
   ]
  },
  {
   "cell_type": "code",
   "execution_count": 79,
   "id": "cb72f993",
   "metadata": {},
   "outputs": [],
   "source": [
    "## Hitung akurasi Testing dataset menggunakan Confusion matriks"
   ]
  },
  {
   "cell_type": "code",
   "execution_count": 89,
   "id": "d64e1324",
   "metadata": {},
   "outputs": [],
   "source": [
    "from sklearn.metrics import confusion_matrix\n",
    "\n",
    "y_test, y_pred = [1,0,1,0],[1,0,0,0]\n",
    "tn, fp, fn, tp = confusion_matrix(y_test, y_pred, labels=[0,1]).ravel()"
   ]
  },
  {
   "cell_type": "code",
   "execution_count": 90,
   "id": "e47b124b",
   "metadata": {},
   "outputs": [
    {
     "name": "stdout",
     "output_type": "stream",
     "text": [
      "0.75\n"
     ]
    }
   ],
   "source": [
    "accuracy = (tn + tp) / (tn+fp+fn+tp)\n",
    "\n",
    "print(accuracy)"
   ]
  },
  {
   "cell_type": "code",
   "execution_count": 91,
   "id": "3e0a89e7",
   "metadata": {},
   "outputs": [
    {
     "data": {
      "text/plain": [
       "'              precision    recall  f1-score   support\\n\\n           0       0.67      1.00      0.80         2\\n           1       1.00      0.50      0.67         2\\n\\n    accuracy                           0.75         4\\n   macro avg       0.83      0.75      0.73         4\\nweighted avg       0.83      0.75      0.73         4\\n'"
      ]
     },
     "execution_count": 91,
     "metadata": {},
     "output_type": "execute_result"
    }
   ],
   "source": [
    "from sklearn.metrics import classification_report\n",
    "classification_report(y_test,y_pred)"
   ]
  },
  {
   "cell_type": "code",
   "execution_count": 93,
   "id": "f894361e",
   "metadata": {},
   "outputs": [
    {
     "name": "stdout",
     "output_type": "stream",
     "text": [
      "              precision    recall  f1-score   support\n",
      "\n",
      "           0       0.67      1.00      0.80         2\n",
      "           1       1.00      0.50      0.67         2\n",
      "\n",
      "    accuracy                           0.75         4\n",
      "   macro avg       0.83      0.75      0.73         4\n",
      "weighted avg       0.83      0.75      0.73         4\n",
      "\n"
     ]
    }
   ],
   "source": [
    "print(classification_report(y_test,y_pred))"
   ]
  },
  {
   "cell_type": "code",
   "execution_count": 94,
   "id": "1c6802a8",
   "metadata": {},
   "outputs": [
    {
     "name": "stdout",
     "output_type": "stream",
     "text": [
      "['chickenpox' 'psoriasis' 'eczema' 'psoriasis' 'psoriasis' 'psoriasis'\n",
      " 'eczema' 'psoriasis' 'eczema' 'scabies' 'psoriasis' 'eczema' 'chickenpox'\n",
      " 'psoriasis' 'scabies' 'eczema' 'psoriasis' 'scabies' 'psoriasis'\n",
      " 'chickenpox' 'psoriasis' 'eczema' 'chickenpox' 'eczema' 'psoriasis'\n",
      " 'chickenpox' 'psoriasis' 'eczema' 'psoriasis' 'eczema' 'scabies'\n",
      " 'chickenpox' 'psoriasis' 'psoriasis' 'psoriasis' 'psoriasis' 'psoriasis'\n",
      " 'chickenpox' 'psoriasis' 'eczema' 'eczema' 'eczema' 'eczema' 'chickenpox'\n",
      " 'psoriasis' 'psoriasis' 'psoriasis' 'psoriasis' 'eczema' 'psoriasis'\n",
      " 'eczema' 'eczema' 'eczema' 'psoriasis' 'psoriasis' 'psoriasis'\n",
      " 'psoriasis' 'psoriasis' 'eczema' 'eczema' 'chickenpox' 'eczema' 'eczema'\n",
      " 'scabies' 'psoriasis' 'psoriasis' 'psoriasis' 'psoriasis' 'eczema'\n",
      " 'eczema' 'psoriasis' 'psoriasis' 'eczema' 'eczema' 'eczema' 'scabies'\n",
      " 'scabies' 'psoriasis' 'psoriasis' 'eczema' 'eczema' 'eczema' 'eczema'\n",
      " 'psoriasis' 'eczema' 'psoriasis' 'psoriasis' 'eczema' 'eczema' 'eczema'\n",
      " 'chickenpox' 'psoriasis' 'psoriasis' 'eczema' 'eczema' 'eczema'\n",
      " 'psoriasis' 'scabies' 'psoriasis' 'scabies' 'psoriasis' 'psoriasis'\n",
      " 'eczema' 'psoriasis' 'psoriasis' 'eczema' 'psoriasis' 'psoriasis'\n",
      " 'psoriasis' 'eczema' 'psoriasis' 'psoriasis' 'eczema' 'eczema'\n",
      " 'psoriasis' 'psoriasis' 'eczema' 'psoriasis' 'psoriasis' 'eczema'\n",
      " 'chickenpox' 'psoriasis' 'psoriasis' 'psoriasis' 'scabies' 'psoriasis'\n",
      " 'psoriasis' 'eczema' 'psoriasis' 'scabies' 'scabies' 'psoriasis' 'eczema'\n",
      " 'eczema' 'psoriasis' 'eczema' 'chickenpox' 'scabies' 'psoriasis'\n",
      " 'psoriasis' 'chickenpox' 'chickenpox' 'psoriasis' 'psoriasis' 'psoriasis'\n",
      " 'psoriasis' 'psoriasis' 'eczema' 'psoriasis' 'chickenpox' 'chickenpox'\n",
      " 'eczema' 'psoriasis' 'scabies' 'eczema' 'eczema' 'eczema' 'eczema'\n",
      " 'eczema' 'eczema' 'psoriasis' 'eczema' 'eczema' 'chickenpox' 'eczema'\n",
      " 'eczema' 'chickenpox' 'eczema' 'eczema' 'chickenpox' 'psoriasis' 'eczema'\n",
      " 'psoriasis' 'psoriasis' 'psoriasis' 'scabies' 'psoriasis' 'psoriasis'\n",
      " 'chickenpox' 'psoriasis' 'psoriasis' 'eczema' 'chickenpox' 'chickenpox'\n",
      " 'chickenpox' 'scabies' 'psoriasis' 'scabies' 'psoriasis' 'psoriasis'\n",
      " 'psoriasis' 'eczema' 'chickenpox' 'scabies' 'chickenpox' 'eczema'\n",
      " 'chickenpox' 'psoriasis' 'psoriasis' 'psoriasis' 'eczema' 'psoriasis'\n",
      " 'psoriasis' 'psoriasis' 'eczema' 'psoriasis' 'psoriasis' 'scabies'\n",
      " 'eczema' 'scabies' 'scabies' 'psoriasis' 'chickenpox' 'eczema'\n",
      " 'psoriasis' 'eczema' 'psoriasis' 'chickenpox' 'eczema' 'chickenpox'\n",
      " 'eczema' 'eczema' 'psoriasis' 'chickenpox' 'eczema' 'eczema' 'psoriasis'\n",
      " 'psoriasis' 'eczema' 'eczema' 'eczema' 'chickenpox' 'psoriasis' 'eczema'\n",
      " 'psoriasis' 'eczema' 'eczema' 'scabies' 'psoriasis' 'eczema' 'chickenpox'\n",
      " 'psoriasis' 'eczema' 'eczema' 'chickenpox' 'eczema' 'psoriasis' 'eczema'\n",
      " 'eczema' 'eczema' 'chickenpox' 'scabies' 'eczema' 'psoriasis' 'eczema'\n",
      " 'eczema' 'chickenpox' 'eczema' 'chickenpox' 'eczema' 'eczema' 'psoriasis'\n",
      " 'eczema' 'psoriasis' 'psoriasis' 'eczema' 'eczema' 'eczema' 'eczema'\n",
      " 'eczema' 'eczema' 'psoriasis' 'psoriasis' 'psoriasis' 'eczema' 'eczema'\n",
      " 'psoriasis' 'psoriasis' 'eczema' 'eczema' 'eczema' 'eczema' 'eczema'\n",
      " 'chickenpox' 'eczema' 'psoriasis' 'eczema' 'eczema' 'eczema' 'eczema'\n",
      " 'eczema' 'psoriasis' 'psoriasis' 'eczema' 'eczema' 'eczema' 'eczema'\n",
      " 'chickenpox' 'eczema' 'eczema' 'eczema' 'chickenpox' 'chickenpox'\n",
      " 'scabies' 'scabies' 'scabies' 'scabies' 'psoriasis' 'eczema' 'chickenpox'\n",
      " 'scabies' 'scabies' 'eczema' 'eczema' 'eczema' 'scabies' 'eczema'\n",
      " 'eczema' 'chickenpox' 'psoriasis' 'eczema' 'chickenpox' 'eczema' 'eczema'\n",
      " 'psoriasis' 'eczema' 'eczema' 'eczema' 'eczema' 'eczema' 'scabies'\n",
      " 'eczema' 'psoriasis' 'eczema' 'eczema' 'eczema' 'eczema' 'eczema'\n",
      " 'eczema' 'eczema' 'eczema' 'chickenpox' 'eczema' 'scabies' 'eczema'\n",
      " 'eczema' 'chickenpox' 'chickenpox' 'scabies' 'psoriasis' 'psoriasis'\n",
      " 'eczema' 'scabies' 'eczema' 'eczema' 'scabies' 'eczema' 'psoriasis'\n",
      " 'psoriasis' 'psoriasis' 'psoriasis' 'chickenpox' 'psoriasis' 'chickenpox'\n",
      " 'psoriasis' 'chickenpox' 'eczema' 'psoriasis' 'scabies' 'chickenpox'\n",
      " 'eczema' 'chickenpox' 'eczema' 'scabies' 'eczema' 'eczema' 'psoriasis'\n",
      " 'eczema' 'eczema' 'eczema' 'eczema' 'chickenpox' 'eczema' 'eczema'\n",
      " 'chickenpox' 'psoriasis' 'psoriasis' 'eczema' 'psoriasis' 'psoriasis'\n",
      " 'eczema' 'psoriasis' 'scabies' 'eczema' 'psoriasis' 'eczema' 'psoriasis'\n",
      " 'scabies' 'eczema' 'psoriasis' 'scabies' 'chickenpox' 'psoriasis'\n",
      " 'psoriasis' 'psoriasis' 'psoriasis' 'psoriasis' 'psoriasis' 'scabies'\n",
      " 'psoriasis' 'psoriasis' 'eczema' 'eczema' 'psoriasis' 'scabies'\n",
      " 'psoriasis' 'eczema' 'psoriasis' 'psoriasis' 'psoriasis' 'psoriasis'\n",
      " 'psoriasis' 'psoriasis' 'psoriasis' 'psoriasis' 'psoriasis' 'psoriasis'\n",
      " 'psoriasis' 'psoriasis' 'psoriasis' 'psoriasis' 'psoriasis' 'eczema'\n",
      " 'psoriasis' 'psoriasis' 'eczema' 'eczema' 'psoriasis' 'eczema'\n",
      " 'psoriasis' 'psoriasis' 'psoriasis' 'psoriasis' 'psoriasis' 'psoriasis'\n",
      " 'psoriasis' 'psoriasis' 'psoriasis' 'eczema' 'eczema' 'psoriasis'\n",
      " 'psoriasis' 'scabies' 'eczema' 'eczema' 'psoriasis' 'psoriasis'\n",
      " 'chickenpox' 'chickenpox' 'scabies' 'scabies' 'eczema' 'psoriasis'\n",
      " 'psoriasis' 'psoriasis' 'psoriasis' 'eczema' 'psoriasis' 'psoriasis'\n",
      " 'psoriasis' 'psoriasis' 'psoriasis' 'psoriasis' 'psoriasis' 'eczema'\n",
      " 'psoriasis' 'scabies' 'psoriasis' 'scabies' 'psoriasis' 'psoriasis'\n",
      " 'eczema' 'chickenpox' 'eczema' 'psoriasis' 'eczema' 'scabies' 'psoriasis'\n",
      " 'psoriasis' 'psoriasis' 'chickenpox' 'psoriasis' 'scabies' 'psoriasis'\n",
      " 'psoriasis' 'eczema' 'eczema' 'scabies' 'chickenpox' 'eczema'\n",
      " 'chickenpox' 'scabies' 'eczema' 'psoriasis' 'chickenpox' 'scabies'\n",
      " 'eczema' 'eczema' 'psoriasis' 'psoriasis' 'eczema' 'scabies' 'eczema'\n",
      " 'eczema' 'keratosis' 'psoriasis' 'psoriasis' 'psoriasis' 'psoriasis'\n",
      " 'psoriasis' 'psoriasis' 'eczema' 'psoriasis' 'psoriasis' 'psoriasis'\n",
      " 'eczema' 'psoriasis' 'scabies' 'psoriasis' 'psoriasis' 'psoriasis'\n",
      " 'psoriasis' 'psoriasis' 'psoriasis' 'psoriasis' 'psoriasis' 'psoriasis'\n",
      " 'psoriasis' 'psoriasis' 'psoriasis' 'psoriasis' 'psoriasis' 'psoriasis'\n",
      " 'psoriasis' 'psoriasis' 'psoriasis' 'psoriasis' 'chickenpox' 'psoriasis'\n",
      " 'psoriasis' 'psoriasis' 'psoriasis' 'psoriasis' 'psoriasis' 'psoriasis'\n",
      " 'psoriasis' 'psoriasis' 'psoriasis' 'psoriasis' 'psoriasis' 'psoriasis'\n",
      " 'psoriasis' 'psoriasis' 'psoriasis' 'psoriasis' 'eczema' 'psoriasis'\n",
      " 'eczema' 'psoriasis' 'psoriasis' 'psoriasis' 'psoriasis' 'psoriasis'\n",
      " 'psoriasis' 'psoriasis' 'eczema' 'eczema' 'psoriasis' 'psoriasis'\n",
      " 'psoriasis' 'psoriasis' 'psoriasis' 'psoriasis' 'psoriasis' 'psoriasis'\n",
      " 'chickenpox' 'eczema' 'chickenpox' 'psoriasis' 'eczema' 'eczema'\n",
      " 'psoriasis' 'psoriasis' 'psoriasis' 'psoriasis' 'chickenpox' 'psoriasis'\n",
      " 'psoriasis' 'psoriasis' 'psoriasis' 'psoriasis' 'psoriasis' 'psoriasis'\n",
      " 'psoriasis' 'psoriasis' 'psoriasis' 'psoriasis' 'psoriasis' 'psoriasis'\n",
      " 'psoriasis' 'psoriasis' 'psoriasis' 'psoriasis' 'psoriasis' 'psoriasis'\n",
      " 'chickenpox' 'psoriasis' 'chickenpox' 'psoriasis' 'psoriasis' 'psoriasis'\n",
      " 'psoriasis' 'psoriasis' 'chickenpox' 'psoriasis' 'psoriasis' 'psoriasis'\n",
      " 'psoriasis' 'psoriasis' 'psoriasis' 'psoriasis' 'psoriasis' 'psoriasis'\n",
      " 'psoriasis' 'psoriasis' 'psoriasis' 'psoriasis' 'psoriasis' 'psoriasis'\n",
      " 'eczema' 'psoriasis' 'psoriasis' 'psoriasis' 'psoriasis' 'psoriasis'\n",
      " 'psoriasis' 'psoriasis' 'psoriasis' 'psoriasis' 'psoriasis' 'psoriasis'\n",
      " 'psoriasis' 'psoriasis' 'psoriasis' 'psoriasis' 'psoriasis' 'eczema'\n",
      " 'chickenpox' 'chickenpox' 'psoriasis' 'psoriasis' 'psoriasis' 'psoriasis'\n",
      " 'psoriasis' 'psoriasis' 'chickenpox' 'eczema' 'scabies' 'eczema'\n",
      " 'scabies' 'scabies' 'scabies' 'eczema' 'scabies' 'scabies' 'scabies'\n",
      " 'scabies' 'scabies' 'scabies' 'scabies' 'eczema' 'eczema' 'scabies'\n",
      " 'scabies' 'eczema' 'scabies' 'eczema' 'eczema' 'eczema' 'psoriasis'\n",
      " 'psoriasis' 'scabies' 'psoriasis' 'scabies' 'eczema' 'chickenpox'\n",
      " 'scabies' 'eczema' 'psoriasis' 'psoriasis' 'eczema' 'psoriasis' 'scabies'\n",
      " 'psoriasis' 'scabies' 'eczema' 'psoriasis' 'eczema' 'psoriasis'\n",
      " 'psoriasis' 'psoriasis' 'psoriasis' 'psoriasis' 'psoriasis' 'psoriasis'\n",
      " 'scabies' 'eczema' 'psoriasis' 'eczema' 'psoriasis' 'scabies' 'eczema'\n",
      " 'psoriasis' 'eczema' 'psoriasis' 'eczema' 'psoriasis' 'scabies'\n",
      " 'chickenpox' 'scabies' 'psoriasis' 'chickenpox' 'eczema' 'scabies'\n",
      " 'psoriasis' 'chickenpox' 'psoriasis' 'scabies' 'scabies' 'eczema'\n",
      " 'scabies' 'psoriasis' 'eczema' 'eczema' 'eczema' 'psoriasis' 'eczema'\n",
      " 'scabies' 'eczema' 'scabies' 'chickenpox' 'psoriasis' 'eczema' 'eczema'\n",
      " 'eczema' 'eczema' 'eczema' 'scabies' 'eczema' 'eczema' 'scabies' 'eczema'\n",
      " 'eczema' 'eczema' 'eczema' 'eczema' 'scabies' 'eczema' 'scabies' 'eczema'\n",
      " 'eczema' 'eczema' 'eczema' 'psoriasis' 'scabies' 'eczema' 'scabies'\n",
      " 'eczema' 'scabies' 'psoriasis' 'eczema' 'eczema' 'eczema' 'scabies'\n",
      " 'eczema' 'eczema' 'eczema' 'eczema' 'scabies' 'eczema' 'scabies' 'eczema'\n",
      " 'eczema' 'eczema' 'scabies' 'eczema' 'psoriasis' 'eczema' 'eczema'\n",
      " 'eczema' 'scabies' 'scabies' 'eczema' 'scabies' 'eczema' 'eczema'\n",
      " 'eczema' 'psoriasis' 'scabies' 'eczema' 'chickenpox' 'eczema' 'scabies'\n",
      " 'scabies' 'scabies' 'eczema' 'scabies' 'eczema' 'eczema' 'scabies'\n",
      " 'scabies' 'scabies' 'psoriasis' 'scabies' 'eczema' 'eczema' 'scabies'\n",
      " 'scabies' 'scabies']\n"
     ]
    }
   ],
   "source": [
    "fitur_test = data_test[['dissimilarity_0', 'dissimilarity_45', 'dissimilarity_90', 'dissimilarity_135', 'correlation_0', 'correlation_45', 'correlation_90', 'correlation_135', 'homogeneity_0', 'homogeneity_45', 'homogeneity_90', 'homogeneity_135', 'contrast_0', 'contrast_45', 'contrast_90', 'contrast_135', 'ASM_0', 'ASM_45', 'ASM_90', 'ASM_135', 'energy_0', 'energy_45', 'energy_90', 'energy_135']]\n",
    "y_pred_test = svc.predict(fitur_test)\n",
    "print(y_pred_test)"
   ]
  },
  {
   "cell_type": "code",
   "execution_count": null,
   "id": "6738bb00",
   "metadata": {},
   "outputs": [],
   "source": []
  }
 ],
 "metadata": {
  "kernelspec": {
   "display_name": "Python 3 (ipykernel)",
   "language": "python",
   "name": "python3"
  },
  "language_info": {
   "codemirror_mode": {
    "name": "ipython",
    "version": 3
   },
   "file_extension": ".py",
   "mimetype": "text/x-python",
   "name": "python",
   "nbconvert_exporter": "python",
   "pygments_lexer": "ipython3",
   "version": "3.9.7"
  }
 },
 "nbformat": 4,
 "nbformat_minor": 5
}
